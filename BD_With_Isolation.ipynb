{
  "nbformat": 4,
  "nbformat_minor": 0,
  "metadata": {
    "colab": {
      "provenance": [],
      "authorship_tag": "ABX9TyOE2/WWK7qMhYUSjz8GCL59",
      "include_colab_link": true
    },
    "kernelspec": {
      "name": "python3",
      "display_name": "Python 3"
    },
    "language_info": {
      "name": "python"
    }
  },
  "cells": [
    {
      "cell_type": "markdown",
      "metadata": {
        "id": "view-in-github",
        "colab_type": "text"
      },
      "source": [
        "<a href=\"https://colab.research.google.com/github/asmahassouna/Machine-Learning/blob/main/BD_With_Isolation.ipynb\" target=\"_parent\"><img src=\"https://colab.research.google.com/assets/colab-badge.svg\" alt=\"Open In Colab\"/></a>"
      ]
    },
    {
      "cell_type": "code",
      "execution_count": 4,
      "metadata": {
        "colab": {
          "base_uri": "https://localhost:8080/"
        },
        "id": "cl2TctfI11in",
        "outputId": "8c5fbd9a-ca8a-4387-8f78-86af41be7794"
      },
      "outputs": [
        {
          "output_type": "stream",
          "name": "stdout",
          "text": [
            "contamination: 0.1-Davies-Bouldin Index:0.6525884553147672\n",
            "contamination: 0.15000000000000002-Davies-Bouldin Index:0.6416622104760338\n",
            "contamination: 0.20000000000000004-Davies-Bouldin Index:0.6520391721059622\n",
            "contamination: 0.25000000000000006-Davies-Bouldin Index:0.6535138280641832\n",
            "contamination: 0.30000000000000004-Davies-Bouldin Index:0.638728469418672\n",
            "contamination: 0.3500000000000001-Davies-Bouldin Index:0.65707318449603\n",
            "contamination: 0.40000000000000013-Davies-Bouldin Index:0.6432149839065386\n",
            "contamination: 0.45000000000000007-Davies-Bouldin Index:0.6243703791123458\n"
          ]
        }
      ],
      "source": [
        "#ISOLER LES ABERRANTES\n",
        "#------------------------\n",
        "\n",
        "from sklearn.ensemble import IsolationForest\n",
        "import matplotlib.pyplot as plt\n",
        "from sklearn.datasets import load_iris #load_diabeties\n",
        "from sklearn.cluster import AgglomerativeClustering\n",
        "from sklearn.metrics import davies_bouldin_score\n",
        "from scipy. cluster.hierarchy import dendrogram, linkage\n",
        "import numpy as np\n",
        "\n",
        "\n",
        "#load wine data set\n",
        "iris = load_iris()\n",
        "X=iris.data\n",
        "\n",
        "#print(iris.target) #0, 1 ou 2 -> les labels\n",
        "for i in np.arange(0.1,0.5, 0.05):\n",
        "\n",
        "  model = IsolationForest(contamination=i,n_estimators=100) #on veut filter i% de donnée\n",
        "  model.fit(X)\n",
        "\n",
        "  # y_pred : 1/-1 => predire l'outlier data => 1 : inlier, -1 : outlier\n",
        "  y_pred=model.predict(X)\n",
        "\n",
        "  #predire l'outlier data,\n",
        "  #l'anomalie,si elle est correctement prédite, appariatera d'une couleur différence des autres,\n",
        "\n",
        "  #plt.scatter(X[:,0],X[:,1], c=y_pred)\n",
        "\n",
        "  #ELIMINER LES OUTLIERS/ABERRANTE\n",
        "  #--------------------------------\n",
        "\n",
        "  #jointure\n",
        "  X_cleaned=X[np.where(y_pred==1, True, False)]\n",
        "  #exemple! X : 150 lignes, X_cleaned: 148  (2 lignes supprimé )\n",
        "\n",
        " # plt.scatter(X_cleaned[:,0],X_cleaned[:,1])\n",
        "\n",
        "\n",
        "  #CREER LES CLUSTERS\n",
        "  #--------------------------------\n",
        "\n",
        "  #Perform agglomerative Hierarcical Clustering\n",
        " # X_cleaned=X\n",
        "  agg_clustering = AgglomerativeClustering(n_clusters=3)\n",
        "  agg_clustering.fit(X_cleaned)\n",
        "\n",
        "  #Get the cluster labels\n",
        "  labels=agg_clustering.labels_\n",
        "  # print(\"Computed Labels (clustering):\", labels) #les labels predicted 0, 1 ou 2 (3 classes)\n",
        "\n",
        "  #compute Davies_Bouldin_Score\n",
        "  db_index=davies_bouldin_score(X_cleaned, labels)\n",
        "\n",
        "  print(f\"contamination: {i}-Davies-Bouldin Index:{db_index}\")\n",
        "\n",
        "\n",
        "\n"
      ]
    },
    {
      "cell_type": "code",
      "source": [
        "\"\"\" nettoyer\n",
        "\n",
        "\"\"\""
      ],
      "metadata": {
        "id": "xLbVKMRV7Gk3"
      },
      "execution_count": null,
      "outputs": []
    }
  ]
}